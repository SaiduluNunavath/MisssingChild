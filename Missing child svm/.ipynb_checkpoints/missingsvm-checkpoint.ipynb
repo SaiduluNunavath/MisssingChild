{
 "cells": [
  {
   "cell_type": "markdown",
   "metadata": {},
   "source": [
    "# Image Classification using `sklearn.svm`"
   ]
  },
  {
   "cell_type": "code",
   "execution_count": 22,
   "metadata": {},
   "outputs": [],
   "source": [
    "from pathlib import Path\n",
    "import matplotlib.pyplot as plt\n",
    "import numpy as np\n",
    "%matplotlib notebook\n",
    "from sklearn import svm, metrics, datasets\n",
    "from sklearn.utils import Bunch\n",
    "from sklearn.model_selection import GridSearchCV, train_test_split\n",
    "import skimage\n",
    "from skimage.io import imread\n",
    "from skimage.transform import resize\n",
    "import joblib"
   ]
  },
  {
   "cell_type": "markdown",
   "metadata": {},
   "source": [
    "### Load images in structured directory like it's sklearn sample dataset"
   ]
  },
  {
   "cell_type": "code",
   "execution_count": 30,
   "metadata": {},
   "outputs": [
    {
     "name": "stdout",
     "output_type": "stream",
     "text": [
      "Accuracy: 1.0\n"
     ]
    }
   ],
   "source": [
    "import os\n",
    "import cv2\n",
    "import numpy as np\n",
    "from sklearn import svm\n",
    "from sklearn.model_selection import train_test_split\n",
    "from sklearn.metrics import accuracy_score\n",
    "\n",
    "# Function to load and preprocess images from a folder\n",
    "def load_images_from_folder(folder):\n",
    "    images = []\n",
    "    labels = []\n",
    "    for filename in os.listdir(folder):\n",
    "        img_path = os.path.join(folder, filename)\n",
    "        img = cv2.imread(img_path, cv2.IMREAD_GRAYSCALE)  # Read image in grayscale\n",
    "        if img is not None:\n",
    "            img = cv2.resize(img, (64, 64))  # Resize image to a fixed size\n",
    "            images.append(img.flatten())  # Flatten image into a 1D array\n",
    "            labels.append(folder.split('/')[-1])  # Assign label based on folder name\n",
    "    return images, labels\n",
    "\n",
    "# Load images and labels from multiple folders\n",
    "def load_data_from_folders(folder_paths):\n",
    "    images = []\n",
    "    labels = []\n",
    "    for folder_path in folder_paths:\n",
    "        folder_images, folder_labels = load_images_from_folder(folder_path)\n",
    "        images.extend(folder_images)\n",
    "        labels.extend(folder_labels)\n",
    "    return images, labels\n",
    "\n",
    "# Define folder paths containing images for different classes\n",
    "folder_paths = ['images/hari', 'images/radha', 'images/raju']\n",
    "\n",
    "# Load images and labels from folders\n",
    "X, y = load_data_from_folders(folder_paths)\n",
    "\n",
    "# Convert lists to numpy arrays\n",
    "X = np.array(X)\n",
    "y = np.array(y)\n",
    "\n",
    "# Split data into training and testing sets\n",
    "X_train, X_test, y_train, y_test = train_test_split(X, y, test_size=0.2, random_state=42)\n",
    "\n",
    "# Train SVM model\n",
    "svm_model = svm.SVC(kernel='linear')\n",
    "svm_model.fit(X_train, y_train)\n",
    "\n",
    "# Predict classes of test images\n",
    "y_pred = svm_model.predict(X_test)\n",
    "\n",
    "# Calculate accuracy\n",
    "accuracy = accuracy_score(y_test, y_pred)\n",
    "print(\"Accuracy:\", accuracy)\n",
    "\n",
    "\n"
   ]
  },
  {
   "cell_type": "code",
   "execution_count": null,
   "metadata": {},
   "outputs": [],
   "source": [
    "model_filename = 'model.joblib'\n",
    "joblib.dump(svm_model, model_filename)\n",
    "print(f\"Trained model saved as {model_filename}\")"
   ]
  },
  {
   "cell_type": "code",
   "execution_count": 37,
   "metadata": {},
   "outputs": [
    {
     "data": {
      "text/plain": [
       "array(['hari', 'radha', 'raju'], dtype='<U5')"
      ]
     },
     "execution_count": 37,
     "metadata": {},
     "output_type": "execute_result"
    }
   ],
   "source": [
    "import os\n",
    "import cv2\n",
    "import numpy as np\n",
    "from sklearn import svm\n",
    "from sklearn.model_selection import train_test_split\n",
    "from sklearn.metrics import accuracy_score\n",
    "loaded_model = joblib.load(model_filename)\n",
    "# Function to load and preprocess images from a folder\n",
    "def load_images_from_folder(folder):\n",
    "    images = []\n",
    "    labels = []\n",
    "    for filename in os.listdir(folder):\n",
    "        img_path = os.path.join(folder, filename)\n",
    "        img = cv2.imread(img_path, cv2.IMREAD_GRAYSCALE)  # Read image in grayscale\n",
    "        if img is not None:\n",
    "            img = cv2.resize(img, (64, 64))  # Resize image to a fixed size\n",
    "            images.append(img.flatten())  # Flatten image into a 1D array\n",
    "            labels.append(folder.split('/')[-1])  # Assign label based on folder name\n",
    "    return images, labels\n",
    "\n",
    "# Load images and labels from multiple folders\n",
    "def load_data_from_folders(folder_paths):\n",
    "    images = []\n",
    "    labels = []\n",
    "    for folder_path in folder_paths:\n",
    "        folder_images, folder_labels = load_images_from_folder(folder_path)\n",
    "        images.extend(folder_images)\n",
    "        labels.extend(folder_labels)\n",
    "    return images, labels\n",
    "\n",
    "# Define folder paths containing images for different classes\n",
    "folder_paths = ['input/']\n",
    "\n",
    "# Load images and labels from folders\n",
    "X, y = load_data_from_folders(folder_paths)\n",
    "\n",
    "# Convert lists to numpy arrays\n",
    "X = np.array(X)\n",
    "# Predict classes of test images\n",
    "y_pred = loaded_model.predict(X)\n",
    "y_pred"
   ]
  },
  {
   "cell_type": "code",
   "execution_count": null,
   "metadata": {},
   "outputs": [],
   "source": []
  }
 ],
 "metadata": {
  "kernelspec": {
   "display_name": "Python 3",
   "language": "python",
   "name": "python3"
  },
  "language_info": {
   "codemirror_mode": {
    "name": "ipython",
    "version": 3
   },
   "file_extension": ".py",
   "mimetype": "text/x-python",
   "name": "python",
   "nbconvert_exporter": "python",
   "pygments_lexer": "ipython3",
   "version": "3.7.9"
  }
 },
 "nbformat": 4,
 "nbformat_minor": 2
}
